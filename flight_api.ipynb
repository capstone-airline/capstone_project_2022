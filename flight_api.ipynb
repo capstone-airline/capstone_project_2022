import warnings
warnings.filterwarnings("ignore")
import traffic
from traffic.data import opensky
traffic.config_file
from datetime import date, timedelta
import pandas as pd

start_date = '2017-01-01'
end_date = '2017-01-31'

outputweek_arr = pd.DataFrame([])



daterange = pd.date_range(start_date, end_date)

for single_date in daterange:
    outputweek_arr = pd.concat([outputweek_arr, opensky.api_arrival('EDDH', single_date.strftime("%Y-%m-%d") + ' 00:00', (single_date + timedelta(days=6)).strftime("%Y-%m-%d") + ' 23:59')])
    outputweek_arr = pd.concat([outputweek_arr, opensky.api_departure('EDDH', single_date.strftime("%Y-%m-%d") + ' 00:00', (single_date + timedelta(days=6)).strftime("%Y-%m-%d") + ' 23:59')])
    
outputweek_arr
